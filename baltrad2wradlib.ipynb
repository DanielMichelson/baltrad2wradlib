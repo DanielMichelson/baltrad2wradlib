{
 "metadata": {
  "name": ""
 },
 "nbformat": 3,
 "nbformat_minor": 0,
 "worksheets": [
  {
   "cells": [
    {
     "cell_type": "heading",
     "level": 1,
     "metadata": {},
     "source": [
      "Interaction of BALTRAD and wradlib via ODIM_H5"
     ]
    },
    {
     "cell_type": "heading",
     "level": 2,
     "metadata": {},
     "source": [
      "Prepare your environment"
     ]
    },
    {
     "cell_type": "code",
     "collapsed": false,
     "input": [
      "%pylab"
     ],
     "language": "python",
     "metadata": {},
     "outputs": [
      {
       "output_type": "stream",
       "stream": "stdout",
       "text": [
        "Using matplotlib backend: Qt4Agg\n",
        "Populating the interactive namespace from numpy and matplotlib\n"
       ]
      }
     ],
     "prompt_number": 1
    },
    {
     "cell_type": "code",
     "collapsed": false,
     "input": [
      "import wradlib\n",
      "import numpy as np\n",
      "import datetime as dt"
     ],
     "language": "python",
     "metadata": {},
     "outputs": [],
     "prompt_number": 2
    },
    {
     "cell_type": "heading",
     "level": 2,
     "metadata": {},
     "source": [
      "Run BALTRAD's odc_toolbox"
     ]
    },
    {
     "cell_type": "markdown",
     "metadata": {},
     "source": [
      "First, you will process a scan from Suergavere (Estland) by using BALTRAD's odc_toolbox.\n",
      "\n",
      "From your VM's vagrant directory, navigate to the folder ``/baltrad2wradlib``.\n",
      "\n",
      "Execute the following command:\n",
      "\n",
      "``$ odc_toolbox -i in -o out -q ropo,radvol-att``\n",
      "\n",
      "Check whether a file was created in the folder ``/out``."
     ]
    },
    {
     "cell_type": "heading",
     "level": 2,
     "metadata": {},
     "source": [
      "Read and inspect data from Suergavere (Estland) before and after QC with odc_toolbox"
     ]
    },
    {
     "cell_type": "code",
     "collapsed": false,
     "input": [
      "# Before QC\n",
      "inp = wradlib.io.read_OPERA_hdf5(\"in/201405190715_SUR.h5\")\n",
      "# After QC\n",
      "out = wradlib.io.read_OPERA_hdf5(\"out/201405190715_SUR.h5\")"
     ],
     "language": "python",
     "metadata": {},
     "outputs": [],
     "prompt_number": 3
    },
    {
     "cell_type": "code",
     "collapsed": false,
     "input": [
      "# Here you can inspect whichever directory you want, e.g.\n",
      "print \"where...\\n\", inp['where'],\"\\n\"\n",
      "print \"what...\\n\", inp['what'],\"\\n\"\n",
      "print \"dataset1/data1/what...\\n\", inp['dataset1/data1/what']"
     ],
     "language": "python",
     "metadata": {},
     "outputs": [
      {
       "output_type": "stream",
       "stream": "stdout",
       "text": [
        "where...\n",
        "{u'lat': 58.482310026884086, u'lon': 25.518660116940737, u'towerheight': 29.0, u'height': 157.0} \n",
        "\n",
        "what...\n",
        "{u'date': '20140519', u'source': 'WMO:26232,RAD:EE41,PLC:S\\xc3\\xbcrgavere,NOD:eesur', u'version': 'H5rad 2.2', u'object': 'PVOL', u'time': '071500'} \n",
        "\n",
        "dataset1/data1/what...\n",
        "{u'nodata': 255.0, u'undetect': 0.0, u'gain': 0.5, u'quantity': 'DBZH', u'offset': -32.0}\n"
       ]
      }
     ],
     "prompt_number": 4
    },
    {
     "cell_type": "heading",
     "level": 2,
     "metadata": {},
     "source": [
      "Convert selected fields to target units"
     ]
    },
    {
     "cell_type": "code",
     "collapsed": false,
     "input": [
      "def convert(dset, dir):\n",
      "    \"\"\"Converts ODIM_H5 data representations to values in target unit and masks missing values.\n",
      "    \n",
      "    Parameters\n",
      "    ----------\n",
      "    dset : the hdf5 object returned by wradlib.read_OPERA_hdf5\n",
      "    dir : the corresponding directory tree in dset for which the data should be processed\n",
      "    \n",
      "    \"\"\"\n",
      "    res = dset[dir+\"/data\"]\n",
      "    try:\n",
      "        res = res * dset[dir+\"/what\"][\"gain\"] + dset[dir+\"/what\"][\"offset\"]\n",
      "    except:\n",
      "        pass\n",
      "    try:\n",
      "        res[dset[dir+\"/data\"]==dset[dir+\"/what\"][\"nodata\"]] = np.nan\n",
      "    except:\n",
      "        pass\n",
      "    try:\n",
      "        res[dset[dir+\"/data\"]==dset[dir+\"/what\"][\"undetect\"]] = np.nan\n",
      "    except:\n",
      "        pass    \n",
      "\n",
      "    return res   "
     ],
     "language": "python",
     "metadata": {},
     "outputs": [],
     "prompt_number": 5
    },
    {
     "cell_type": "code",
     "collapsed": false,
     "input": [
      "# Extract specific data arrays from ODIM_h5 objects\n",
      "#    dBZH before QC\n",
      "before= convert(inp, \"dataset1/data1\")\n",
      "#    dBZH after QC\n",
      "after = convert(out, \"dataset1/data1\")\n",
      "#    Quality field 1\n",
      "qual1 = convert(out, \"dataset1/quality1\")\n",
      "#    Quality field 2\n",
      "qual2 = convert(out, \"dataset1/quality2\")"
     ],
     "language": "python",
     "metadata": {},
     "outputs": [],
     "prompt_number": 6
    },
    {
     "cell_type": "heading",
     "level": 2,
     "metadata": {},
     "source": [
      "Collect all the information required for georeferencing"
     ]
    },
    {
     "cell_type": "code",
     "collapsed": false,
     "input": [
      "# Collect all the georeferencing information we need\n",
      "#   First gate\n",
      "r0 = inp['dataset1/where'][\"rstart\"]*1000.\n",
      "#   Gate length\n",
      "rscale = inp['dataset1/where'][\"rscale\"]\n",
      "#   Number of bins per beam\n",
      "nbins = inp['dataset1/where'][\"nbins\"]\n",
      "#   Maximum range\n",
      "maxr = r0 + (nbins)*rscale\n",
      "# Construct array of range gates\n",
      "r = np.linspace(r0, maxr, nbins)\n",
      "# Construct array of azimuth angles (quick and dirty)\n",
      "az = np.linspace(0, 359, inp['dataset1/where'][\"nrays\"])\n",
      "# Site coordinates (lon,lat)\n",
      "site = inp[\"where\"][\"lon\"], inp[\"where\"][\"lat\"]\n",
      "# Define a projection (Azimuthal Equidistant)\n",
      "proj = wradlib.georef.create_projstr(\"aeqd\", lon_0=site[0], lat_0=site[1])"
     ],
     "language": "python",
     "metadata": {},
     "outputs": [],
     "prompt_number": 7
    },
    {
     "cell_type": "heading",
     "level": 2,
     "metadata": {},
     "source": [
      "Design a plot we will use for all PPIs in this exercise"
     ]
    },
    {
     "cell_type": "code",
     "collapsed": false,
     "input": [
      "# A little helper funciton to harmonize all plots\n",
      "def plot_ppi_to_ax(ppi, ax, title=\"\", cb=True, cb_label=\"\", cb_shrink=0.75, **kwargs):\n",
      "    \"\"\"This is the function that we use in this exercise to plot PPIs with uniform georeferencing and style.\n",
      "    \"\"\"\n",
      "    # use wradlib's vis.plot_ppi function\n",
      "    ax, pm = wradlib.vis.plot_ppi(np.ma.masked_invalid(ppi), ax=ax, r=r, az=az, site=site, proj=proj, **kwargs)\n",
      "    # and plot a cross hair\n",
      "    ax = wradlib.vis.plot_ppi_crosshair(site=site, ranges=[50000, 100000,150000, 200000, maxr], angles=[0, 90, 180, 270], \n",
      "                                        proj=proj, elev=0.5, ax=ax)\n",
      "    # set limits for axes\n",
      "    plt.xlim((-maxr-2000.,maxr+2000))\n",
      "    plt.ylim((-maxr-2000,maxr+2000))\n",
      "    # set title\n",
      "    plt.title(title)\n",
      "    # convert axes unit from meters to kilometers\n",
      "    ax.set_xticklabels(['%g' % (0.001*l) for l in ax.get_xticks()])\n",
      "    ax.set_yticklabels(['%g' % (0.001*l) for l in ax.get_yticks()])\n",
      "    # set axes lables\n",
      "    plt.xlabel(\"Distance from radar (km)\")\n",
      "    plt.ylabel(\"Distance from radar (km)\")\n",
      "    # plot colorbar   \n",
      "    if cb:\n",
      "        cbar = plt.colorbar(pm, shrink=cb_shrink)\n",
      "        cbar.set_label(cb_label)  \n",
      "    \n",
      "    return ax, pm\n",
      "    "
     ],
     "language": "python",
     "metadata": {},
     "outputs": [],
     "prompt_number": 10
    },
    {
     "cell_type": "heading",
     "level": 2,
     "metadata": {},
     "source": [
      "Plot the selected fields into one figure (zooooomable)"
     ]
    },
    {
     "cell_type": "code",
     "collapsed": false,
     "input": [
      "fig = plt.figure(figsize=(12,10))\n",
      "\n",
      "ax = fig.add_subplot(221, aspect=\"equal\")\n",
      "ax, pm = plot_ppi_to_ax(np.ma.masked_invalid(before), ax=ax, title=\"Before QC\", cb=False, vmin=-10, vmax=65)\n",
      "\n",
      "ax = fig.add_subplot(222, aspect=\"equal\")\n",
      "ax, pm = plot_ppi_to_ax(np.ma.masked_invalid(after),  ax=ax, title=\"After QC\",  cb=False, vmin=-10, vmax=65)\n",
      "\n",
      "ax = fig.add_subplot(223, aspect=\"equal\")\n",
      "ax, qm = plot_ppi_to_ax(np.ma.masked_invalid(qual1), ax=ax,  title=\"Quality 1\", cb=False)\n",
      "\n",
      "ax = fig.add_subplot(224, aspect=\"equal\")\n",
      "ax, qm = plot_ppi_to_ax(np.ma.masked_invalid(qual2), ax=ax,  title=\"Quality 2\", cb=False)\n",
      "\n",
      "plt.tight_layout()\n",
      "\n",
      "# Add colorbars\n",
      "fig.subplots_adjust(right=0.9)\n",
      "cax = fig.add_axes((0.9, 0.6, 0.03, 0.3))\n",
      "cbar = plt.colorbar(pm, cax=cax)\n",
      "cbar.set_label(\"Horizontal reflectivity (dBZ)\", fontsize=\"large\")\n",
      "\n",
      "cax = fig.add_axes((0.9, 0.1, 0.03, 0.3))\n",
      "cbar = plt.colorbar(qm, cax=cax)\n",
      "cbar.set_label(\"Quality index\", fontsize=\"large\")"
     ],
     "language": "python",
     "metadata": {},
     "outputs": [],
     "prompt_number": 9
    },
    {
     "cell_type": "heading",
     "level": 2,
     "metadata": {},
     "source": [
      "Collect and plot the polarimetric moments from the original ODIM_H5 dataset"
     ]
    },
    {
     "cell_type": "code",
     "collapsed": false,
     "input": [
      "# We organise the moments as a dictionary\n",
      "moments = {}\n",
      "moments[\"rho\"] = convert(inp, \"dataset1/data2\")+0.5 # I don't understand why RhoHV spans from -0.5 to 0.5 ... did I do something wrong?\n",
      "moments[\"phi\"] = convert(inp, \"dataset1/data4\")     # PhiDP\n",
      "moments[\"zdr\"] = convert(inp, \"dataset1/data5\")     # ZDR - the value range is not plausible, either... did I do something wrong?\n",
      "moments[\"dop\"] = convert(inp, \"dataset1/data10\")    # Doppler velocity\n",
      "moments[\"map\"] = None                               # We do not have a static clutter map"
     ],
     "language": "python",
     "metadata": {},
     "outputs": [],
     "prompt_number": 12
    },
    {
     "cell_type": "code",
     "collapsed": false,
     "input": [
      "fig = plt.figure(figsize=(12,12))\n",
      "\n",
      "ax = fig.add_subplot(221, aspect=\"equal\")\n",
      "ax, pm = plot_ppi_to_ax(np.ma.masked_invalid(moments[\"rho\"]), ax=ax, title=\"RhoHV\", cb_label=\"(-)\", cb_shrink=0.6)\n",
      "\n",
      "ax = fig.add_subplot(222, aspect=\"equal\")\n",
      "ax, pm = plot_ppi_to_ax(np.ma.masked_invalid(moments[\"phi\"]), ax=ax, title=\"PhiDP\", cb_label=\"degree\", cb_shrink=0.6)\n",
      "\n",
      "ax = fig.add_subplot(223, aspect=\"equal\")\n",
      "ax, pm = plot_ppi_to_ax(np.ma.masked_invalid(moments[\"zdr\"]), ax=ax, title=\"Differential reflectivity\", cb_label=\"dB\", cb_shrink=0.6)\n",
      "\n",
      "ax = fig.add_subplot(224, aspect=\"equal\")\n",
      "ax, pm = plot_ppi_to_ax(np.ma.masked_invalid(moments[\"dop\"]), ax=ax, title=\"Doppler velocity\", cb_label=\"m/s\", cb_shrink=0.6)\n",
      "\n",
      "plt.tight_layout()"
     ],
     "language": "python",
     "metadata": {},
     "outputs": [],
     "prompt_number": 14
    },
    {
     "cell_type": "heading",
     "level": 2,
     "metadata": {},
     "source": [
      "Try classification of non-meteorological echoes using polarimetric moments"
     ]
    },
    {
     "cell_type": "code",
     "collapsed": false,
     "input": [
      "# classify_echo_fuzzy returns a boolean classification as well as a mask where all moments are NaN\n",
      "nonmeteo, nan_mask = wradlib.clutter.classify_echo_fuzzy(moments)\n",
      "# Filter original data using both masks\n",
      "after2 = before.copy()\n",
      "after2[nonmeteo] = np.nan\n",
      "after2[nan_mask] = np.nan"
     ],
     "language": "python",
     "metadata": {},
     "outputs": [
      {
       "output_type": "stream",
       "stream": "stderr",
       "text": [
        "E:\\src\\python\\wradlib\\wradlib\\dp.py:767: RuntimeWarning: invalid value encountered in divide\n",
        "  texture = np.sqrt(num / xa_valid_count)\n",
        "E:\\src\\python\\wradlib\\wradlib\\clutter.py:406: RuntimeWarning: invalid value encountered in divide\n",
        "  / (w_map + w_dop + w_zdr + w_rho + w_phi + w_rho2)\n"
       ]
      },
      {
       "output_type": "stream",
       "stream": "stdout",
       "text": [
        "WARNING: Missing decision variable: map\n"
       ]
      }
     ],
     "prompt_number": 15
    },
    {
     "cell_type": "heading",
     "level": 2,
     "metadata": {},
     "source": [
      "Compare results against QC from odc_toolbox"
     ]
    },
    {
     "cell_type": "code",
     "collapsed": false,
     "input": [
      "fig = plt.figure(figsize=(12,12))\n",
      "\n",
      "ax = fig.add_subplot(221, aspect=\"equal\")\n",
      "ax, pm = plot_ppi_to_ax(np.ma.masked_invalid(before), ax=ax, title=\"Before QC\", cb_label=\"Horizontal reflectivity (dBZ)\", cb_shrink=0.6, vmin=-10, vmax=65)\n",
      "\n",
      "ax = fig.add_subplot(222, aspect=\"equal\")\n",
      "ax, pm = plot_ppi_to_ax(np.ma.masked_array(nonmeteo, nan_mask), ax=ax, title=\"Non-meteorological echoes\", cb_label=\"0=meteorological, 1=non-meterological\", cb_shrink=0.6)\n",
      "\n",
      "ax = fig.add_subplot(223, aspect=\"equal\")\n",
      "ax, pm = plot_ppi_to_ax(np.ma.masked_invalid(after), ax=ax, title=\"After QC using odc_toolbox\", cb_label=\"Horizontal reflectivity (dBZ)\", cb_shrink=0.6, vmin=-10, vmax=65)\n",
      "\n",
      "ax = fig.add_subplot(224, aspect=\"equal\")\n",
      "ax, pm = plot_ppi_to_ax(np.ma.masked_invalid(after2), ax=ax, title=\"After QC using polarimetric moments\", cb_label=\"Horizontal reflectivity (dBZ)\", cb_shrink=0.6, vmin=-10, vmax=65)\n",
      "\n",
      "plt.tight_layout()"
     ],
     "language": "python",
     "metadata": {},
     "outputs": [],
     "prompt_number": 17
    }
   ],
   "metadata": {}
  }
 ]
}